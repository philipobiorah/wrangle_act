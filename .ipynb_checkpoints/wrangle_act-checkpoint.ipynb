{
 "cells": [
  {
   "cell_type": "markdown",
   "id": "093a3759",
   "metadata": {},
   "source": [
    "## Introduction"
   ]
  },
  {
   "cell_type": "markdown",
   "id": "e7fd1c8b",
   "metadata": {},
   "source": [
    "In this project Tweepy will be used to query Twitter's API for data included in the WeRateDogs Twitter archive. This statistics will include the number of retweets and favorites. We create a Twitter application  before executing our API querying code after which we  construct an API object that collects Twitter data. We then write each tweet's JSON data to a tweet json.txt file after querying each tweet ID, with each tweet's JSON data on its own line. We then read this file line by line to generate a pandas DataFrame, then we inspect and clean. \n",
    "\n",
    "Simple put, we will gather, assess, and clean data Twitter Data then act on it through analysis, visualization and/or modeling."
   ]
  },
  {
   "cell_type": "markdown",
   "id": "e03a9482",
   "metadata": {},
   "source": [
    "## Gathering"
   ]
  },
  {
   "cell_type": "code",
   "execution_count": null,
   "id": "b8442b07",
   "metadata": {},
   "outputs": [],
   "source": []
  },
  {
   "cell_type": "code",
   "execution_count": 5,
   "id": "f18b417d",
   "metadata": {},
   "outputs": [],
   "source": [
    "import requests\n",
    "import os"
   ]
  },
  {
   "cell_type": "code",
   "execution_count": 7,
   "id": "a6c03def",
   "metadata": {},
   "outputs": [],
   "source": [
    "url = 'https://d17h27t6h515a5.cloudfront.net/topher/2017/August/599fd2ad_image-predictions/image-predictions.tsv'"
   ]
  },
  {
   "cell_type": "markdown",
   "id": "25a2bb28",
   "metadata": {},
   "source": [
    "#### Create a folder"
   ]
  },
  {
   "cell_type": "code",
   "execution_count": 6,
   "id": "b5ce90f1",
   "metadata": {},
   "outputs": [],
   "source": [
    "#make dir if is does not exist already. \n",
    "folder_name = 'wrangle_act'\n",
    "if not os.path.exists(folder_name):\n",
    "    os.makedirs(folder_name)"
   ]
  },
  {
   "cell_type": "code",
   "execution_count": 8,
   "id": "00bf682e",
   "metadata": {},
   "outputs": [],
   "source": [
    "with open(os.path.join(folder_name, url.split('/')[-1]),\n",
    "         mode='wb') as file:\n",
    "    response = requests.get(url)\n",
    "    file.write(response.content)"
   ]
  },
  {
   "cell_type": "code",
   "execution_count": null,
   "id": "0c4831e7",
   "metadata": {},
   "outputs": [],
   "source": [
    "with open(os.path.join(folder_name,\n",
    "                       url.split('/')[-1]), \n",
    "                       mode='wb') as file:\n",
    "        response = requests.get(url)\n",
    "        file.write(response.content)"
   ]
  }
 ],
 "metadata": {
  "kernelspec": {
   "display_name": "Python [conda env:my_env]",
   "language": "python",
   "name": "conda-env-my_env-py"
  },
  "language_info": {
   "codemirror_mode": {
    "name": "ipython",
    "version": 3
   },
   "file_extension": ".py",
   "mimetype": "text/x-python",
   "name": "python",
   "nbconvert_exporter": "python",
   "pygments_lexer": "ipython3",
   "version": "3.7.13"
  }
 },
 "nbformat": 4,
 "nbformat_minor": 5
}
